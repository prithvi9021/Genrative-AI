{
 "cells": [
  {
   "cell_type": "markdown",
   "id": "c4930d86-2996-4dde-9c21-c34a559cae1b",
   "metadata": {},
   "source": [
    "## Installing Required Libraries for Model Fine-Tuning and Optimization"
   ]
  },
  {
   "cell_type": "code",
   "execution_count": 1,
   "id": "354f540d",
   "metadata": {
    "execution": {
     "iopub.execute_input": "2025-02-23T07:10:35.543680Z",
     "iopub.status.busy": "2025-02-23T07:10:35.543325Z",
     "iopub.status.idle": "2025-02-23T07:10:40.000771Z",
     "shell.execute_reply": "2025-02-23T07:10:39.999821Z"
    },
    "papermill": {
     "duration": 4.480928,
     "end_time": "2025-02-23T07:10:40.002485",
     "exception": false,
     "start_time": "2025-02-23T07:10:35.521557",
     "status": "completed"
    },
    "tags": []
   },
   "outputs": [],
   "source": [
    "!pip install -q -U torch --index-url https://download.pytorch.org/whl/cu117"
   ]
  },
  {
   "cell_type": "code",
   "execution_count": 2,
   "id": "b2e94b23",
   "metadata": {
    "execution": {
     "iopub.execute_input": "2025-02-23T07:10:40.046702Z",
     "iopub.status.busy": "2025-02-23T07:10:40.046352Z",
     "iopub.status.idle": "2025-02-23T07:11:14.903420Z",
     "shell.execute_reply": "2025-02-23T07:11:14.902422Z"
    },
    "papermill": {
     "duration": 34.881209,
     "end_time": "2025-02-23T07:11:14.905104",
     "exception": false,
     "start_time": "2025-02-23T07:10:40.023895",
     "status": "completed"
    },
    "tags": []
   },
   "outputs": [
    {
     "name": "stdout",
     "output_type": "stream",
     "text": [
      "\u001b[2K     \u001b[90m━━━━━━━━━━━━━━━━━━━━━━━━━━━━━━━━━━━━━━━━\u001b[0m \u001b[32m130.7/130.7 kB\u001b[0m \u001b[31m3.4 MB/s\u001b[0m eta \u001b[36m0:00:00\u001b[0m\r\n",
      "\u001b[2K   \u001b[90m━━━━━━━━━━━━━━━━━━━━━━━━━━━━━━━━━━━━━━━━\u001b[0m \u001b[32m8.5/8.5 MB\u001b[0m \u001b[31m73.2 MB/s\u001b[0m eta \u001b[36m0:00:00\u001b[0m\r\n",
      "\u001b[2K   \u001b[90m━━━━━━━━━━━━━━━━━━━━━━━━━━━━━━━━━━━━━━━━\u001b[0m \u001b[32m3.6/3.6 MB\u001b[0m \u001b[31m84.8 MB/s\u001b[0m eta \u001b[36m0:00:00\u001b[0m\r\n",
      "\u001b[?25h\u001b[31mERROR: pip's dependency resolver does not currently take into account all the packages that are installed. This behaviour is the source of the following dependency conflicts.\r\n",
      "sentence-transformers 3.3.1 requires transformers<5.0.0,>=4.41.0, but you have transformers 4.38.2 which is incompatible.\u001b[0m\u001b[31m\r\n",
      "\u001b[2K   \u001b[90m━━━━━━━━━━━━━━━━━━━━━━━━━━━━━━━━━━━━━━━━\u001b[0m \u001b[32m270.9/270.9 kB\u001b[0m \u001b[31m5.3 MB/s\u001b[0m eta \u001b[36m0:00:00\u001b[0m\r\n",
      "\u001b[2K   \u001b[90m━━━━━━━━━━━━━━━━━━━━━━━━━━━━━━━━━━━━━━━━\u001b[0m \u001b[32m69.7/69.7 MB\u001b[0m \u001b[31m25.5 MB/s\u001b[0m eta \u001b[36m0:00:00\u001b[0m\r\n",
      "\u001b[2K   \u001b[90m━━━━━━━━━━━━━━━━━━━━━━━━━━━━━━━━━━━━━━━━\u001b[0m \u001b[32m507.1/507.1 kB\u001b[0m \u001b[31m9.3 MB/s\u001b[0m eta \u001b[36m0:00:00\u001b[0m\r\n",
      "\u001b[2K   \u001b[90m━━━━━━━━━━━━━━━━━━━━━━━━━━━━━━━━━━━━━━━━\u001b[0m \u001b[32m115.3/115.3 kB\u001b[0m \u001b[31m6.4 MB/s\u001b[0m eta \u001b[36m0:00:00\u001b[0m\r\n",
      "\u001b[2K   \u001b[90m━━━━━━━━━━━━━━━━━━━━━━━━━━━━━━━━━━━━━━━━\u001b[0m \u001b[32m166.4/166.4 kB\u001b[0m \u001b[31m10.0 MB/s\u001b[0m eta \u001b[36m0:00:00\u001b[0m\r\n",
      "\u001b[2K   \u001b[90m━━━━━━━━━━━━━━━━━━━━━━━━━━━━━━━━━━━━━━━━\u001b[0m \u001b[32m134.8/134.8 kB\u001b[0m \u001b[31m8.5 MB/s\u001b[0m eta \u001b[36m0:00:00\u001b[0m\r\n",
      "\u001b[?25h\u001b[31mERROR: pip's dependency resolver does not currently take into account all the packages that are installed. This behaviour is the source of the following dependency conflicts.\r\n",
      "gcsfs 2024.10.0 requires fsspec==2024.10.0, but you have fsspec 2023.10.0 which is incompatible.\r\n",
      "pathos 0.3.2 requires dill>=0.3.8, but you have dill 0.3.7 which is incompatible.\r\n",
      "pathos 0.3.2 requires multiprocess>=0.70.16, but you have multiprocess 0.70.15 which is incompatible.\r\n",
      "sentence-transformers 3.3.1 requires transformers<5.0.0,>=4.41.0, but you have transformers 4.38.2 which is incompatible.\u001b[0m\u001b[31m\r\n",
      "\u001b[2K   \u001b[90m━━━━━━━━━━━━━━━━━━━━━━━━━━━━━━━━━━━━━━━━\u001b[0m \u001b[32m155.3/155.3 kB\u001b[0m \u001b[31m3.8 MB/s\u001b[0m eta \u001b[36m0:00:00\u001b[0m\r\n",
      "\u001b[2K   \u001b[90m━━━━━━━━━━━━━━━━━━━━━━━━━━━━━━━━━━━━━━━━\u001b[0m \u001b[32m117.2/117.2 kB\u001b[0m \u001b[31m7.5 MB/s\u001b[0m eta \u001b[36m0:00:00\u001b[0m\r\n",
      "\u001b[2K   \u001b[90m━━━━━━━━━━━━━━━━━━━━━━━━━━━━━━━━━━━━━━━━\u001b[0m \u001b[32m183.4/183.4 kB\u001b[0m \u001b[31m4.0 MB/s\u001b[0m eta \u001b[36m0:00:00\u001b[0m\r\n",
      "\u001b[?25h"
     ]
    }
   ],
   "source": [
    "# Install the specified version of the HuggingFace Transformers library, for model loading, fine-tuning, and inference.\n",
    "!pip install -q -U transformers==4.38.2  # The '-q' flag suppresses output to keep it clean, and '-U' ensures the version is upgraded if already installed.\n",
    "\n",
    "# Install the specified version of the Accelerate library, which is useful for efficient training on multiple devices.\n",
    "!pip install -q accelerate==0.26.1  # Accelerate helps in simplifying training and inference on multi-GPU or TPU setups.\n",
    "\n",
    "# Install BitsAndBytes library for 4-bit model loading and optimization.\n",
    "!pip install -q -i https://pypi.org/simple/ bitsandbytes  # This installs bitsandbytes from the default PyPI index, optimizing large models with 4-bit quantization.\n",
    "\n",
    "# Install the specified version of the Datasets library, which is used for handling and processing datasets, especially for machine learning tasks.\n",
    "!pip install -q -U datasets==2.16.1  # Datasets is used for easily loading and working with datasets in the HuggingFace ecosystem.\n",
    "\n",
    "# Install the specified version of the TRL (Transformer Reinforcement Learning) library, which\n"
   ]
  },
  {
   "cell_type": "markdown",
   "id": "48bf332a-d614-4ef3-9a7e-9b74035a6aef",
   "metadata": {},
   "source": [
    "## Import Libraries"
   ]
  },
  {
   "cell_type": "code",
   "execution_count": 3,
   "id": "dc09b9a2",
   "metadata": {
    "execution": {
     "iopub.execute_input": "2025-02-23T07:11:14.997641Z",
     "iopub.status.busy": "2025-02-23T07:11:14.997207Z",
     "iopub.status.idle": "2025-02-23T07:11:15.001768Z",
     "shell.execute_reply": "2025-02-23T07:11:15.000950Z"
    },
    "papermill": {
     "duration": 0.029422,
     "end_time": "2025-02-23T07:11:15.003062",
     "exception": false,
     "start_time": "2025-02-23T07:11:14.973640",
     "status": "completed"
    },
    "tags": []
   },
   "outputs": [],
   "source": [
    "import os\n",
    "os.environ[\"CUDA_VISIBLE_DEVICES\"] = \"0\"\n",
    "os.environ[\"TOKENIZERS_PARALLELISM\"] = \"false\""
   ]
  },
  {
   "cell_type": "code",
   "execution_count": 4,
   "id": "0dbdfd06",
   "metadata": {
    "execution": {
     "iopub.execute_input": "2025-02-23T07:11:15.095350Z",
     "iopub.status.busy": "2025-02-23T07:11:15.094978Z",
     "iopub.status.idle": "2025-02-23T07:11:15.098893Z",
     "shell.execute_reply": "2025-02-23T07:11:15.098086Z"
    },
    "papermill": {
     "duration": 0.029697,
     "end_time": "2025-02-23T07:11:15.100148",
     "exception": false,
     "start_time": "2025-02-23T07:11:15.070451",
     "status": "completed"
    },
    "tags": []
   },
   "outputs": [],
   "source": [
    "import warnings\n",
    "warnings.filterwarnings(\"ignore\")"
   ]
  },
  {
   "cell_type": "code",
   "execution_count": 5,
   "id": "eacb1ec9",
   "metadata": {
    "execution": {
     "iopub.execute_input": "2025-02-23T07:11:15.192804Z",
     "iopub.status.busy": "2025-02-23T07:11:15.192369Z",
     "iopub.status.idle": "2025-02-23T07:11:42.805555Z",
     "shell.execute_reply": "2025-02-23T07:11:42.804872Z"
    },
    "papermill": {
     "duration": 27.638209,
     "end_time": "2025-02-23T07:11:42.807117",
     "exception": false,
     "start_time": "2025-02-23T07:11:15.168908",
     "status": "completed"
    },
    "tags": []
   },
   "outputs": [],
   "source": [
    "# Import essential libraries for numerical and data manipulation\n",
    "import numpy as np  # For numerical operations and array manipulations\n",
    "import pandas as pd  # For data handling, particularly DataFrames\n",
    "import os  # For interacting with the operating system (e.g., file paths)\n",
    "from tqdm import tqdm  # For creating progress bars in loops\n",
    "\n",
    "# Import torch and PyTorch-specific modules for deep learning\n",
    "import torch  # For tensor operations and neural network models\n",
    "import torch.nn as nn  # For defining neural network layers and models\n",
    "\n",
    "# Importing the HuggingFace Transformers library for NLP models\n",
    "import transformers  # Main HuggingFace package\n",
    "from transformers import (AutoModelForCausalLM,  # For loading causal language models (e.g., GPT)\n",
    "                          AutoTokenizer,  # For tokenizing text data for model inputs\n",
    "                          BitsAndBytesConfig,  # For configuring model quantization\n",
    "                          TrainingArguments,  # For specifying training configurations\n",
    "                          pipeline,  # For easily using pre-trained models for specific tasks\n",
    "                          logging)  # For controlling logging and debugging\n",
    "                          \n",
    "# Import the datasets library from HuggingFace for efficient data loading and preprocessing\n",
    "from datasets import Dataset  # For loading and working with datasets in HuggingFace format\n",
    "\n",
    "# Import PEFT (Parameter-Efficient Fine-T\n"
   ]
  },
  {
   "cell_type": "code",
   "execution_count": 6,
   "id": "2589d9d3",
   "metadata": {
    "execution": {
     "iopub.execute_input": "2025-02-23T07:11:42.853766Z",
     "iopub.status.busy": "2025-02-23T07:11:42.853460Z",
     "iopub.status.idle": "2025-02-23T07:11:42.857418Z",
     "shell.execute_reply": "2025-02-23T07:11:42.856642Z"
    },
    "papermill": {
     "duration": 0.028161,
     "end_time": "2025-02-23T07:11:42.858608",
     "exception": false,
     "start_time": "2025-02-23T07:11:42.830447",
     "status": "completed"
    },
    "tags": []
   },
   "outputs": [
    {
     "name": "stdout",
     "output_type": "stream",
     "text": [
      "transformers==4.38.2\n"
     ]
    }
   ],
   "source": [
    "print(f\"transformers=={transformers.__version__}\")"
   ]
  },
  {
   "cell_type": "markdown",
   "id": "e707c0e6-b446-4147-b9f0-bf593a149c8a",
   "metadata": {},
   "source": [
    "## Model Loading and Configuration with Quantization"
   ]
  },
  {
   "cell_type": "code",
   "execution_count": 7,
   "id": "2ad7ccf1",
   "metadata": {
    "execution": {
     "iopub.execute_input": "2025-02-23T07:11:42.949384Z",
     "iopub.status.busy": "2025-02-23T07:11:42.949115Z",
     "iopub.status.idle": "2025-02-23T07:12:51.207972Z",
     "shell.execute_reply": "2025-02-23T07:12:51.206956Z"
    },
    "papermill": {
     "duration": 68.284133,
     "end_time": "2025-02-23T07:12:51.210020",
     "exception": false,
     "start_time": "2025-02-23T07:11:42.925887",
     "status": "completed"
    },
    "tags": []
   },
   "outputs": [
    {
     "data": {
      "application/vnd.jupyter.widget-view+json": {
       "model_id": "101c99270fd844a1b52f148b6d4513a5",
       "version_major": 2,
       "version_minor": 0
      },
      "text/plain": [
       "Loading checkpoint shards:   0%|          | 0/4 [00:00<?, ?it/s]"
      ]
     },
     "metadata": {},
     "output_type": "display_data"
    }
   ],
   "source": [
    "# Define the path to the pre-trained model stored in the Kaggle input directory\n",
    "model_name = \"/kaggle/input/gemma/transformers/7b-it/1\"  # The model is loaded from this specific directory.\n",
    "\n",
    "# Set the data type for computations to 'float16' for memory efficiency and faster computation on compatible hardware (e.g., GPUs).\n",
    "compute_dtype = getattr(torch, \"float16\")  # Retrieve 'float16' precision type from the torch module.\n",
    "\n",
    "# Configuration for quantization with BitsAndBytes for 4-bit model weights to reduce memory usage.\n",
    "bnb_config = BitsAndBytesConfig(\n",
    "    load_in_4bit=True,  # Enable loading the model weights in 4-bit precision.\n",
    "    bnb_4bit_use_double_quant=False,  # Disable double quantization to optimize memory usage.\n",
    "    bnb_4bit_quant_type=\"nf4\",  # Set the quantization type to 'nf4' for improved memory efficiency.\n",
    "    bnb_4bit_compute_dtype=compute_dtype,  # Set the computation data type to 'float16' for efficient computation.\n",
    ")\n",
    "\n",
    "# Load the pre-trained language model with the specified quantization configuration and automatic device placement (GPU/CPU).\n",
    "model = AutoModelForCausalLM.from_pretrained(\n",
    "    model_name,  # Path to the model directory.\n",
    "    device_map=\"auto\",  # Automatically place the model on available GPUs or CPUs.\n",
    "    quantization_config=bnb_config,  # Apply the BitsAndBytes quantization configuration for efficient memory usage.\n",
    ")\n",
    "\n",
    "# Disable caching to prevent memory overhead during inference (especially useful in fine-tuning or evaluation).\n",
    "model.config.use_cache = False  # Disable caching mechanism in the model for saving memory.\n",
    "\n",
    "# Set the pretraining tensor parallelism (helps when distributing model computation over multiple GPUs).\n",
    "model.config.pretraining_tp = 1  # Set tensor parallelism to 1, which may help with memory optimization.\n",
    "\n",
    "# Define the maximum sequence length the model can handle for tokenization.\n",
    "max_seq_length = 2048  # The maximum sequence length allowed by the tokenizer for each input.\n",
    "\n",
    "# Load the tokenizer for the model, ensuring that the max sequence length is respected during tokenization.\n",
    "tokenizer = AutoTokenizer.from_pretrained(model_name, max_seq_length=max_seq_length)  # Load the tokenizer for the model.\n",
    "\n",
    "# Store the end-of-sequence (EOS) token for later use during text generation.\n",
    "EOS_TOKEN = tokenizer.eos_token  # Retrieve the EOS token used to mark the end of a generated text sequence.\n"
   ]
  },
  {
   "cell_type": "markdown",
   "id": "701981bb-2308-4c5c-a37c-624f4f657563",
   "metadata": {},
   "source": [
    "## Data Preprocessing, Prompt Generation, Model Training"
   ]
  },
  {
   "cell_type": "code",
   "execution_count": 8,
   "id": "ca806da9",
   "metadata": {
    "execution": {
     "iopub.execute_input": "2025-02-23T07:12:51.303207Z",
     "iopub.status.busy": "2025-02-23T07:12:51.302927Z",
     "iopub.status.idle": "2025-02-23T07:12:51.622736Z",
     "shell.execute_reply": "2025-02-23T07:12:51.622005Z"
    },
    "papermill": {
     "duration": 0.344723,
     "end_time": "2025-02-23T07:12:51.624305",
     "exception": false,
     "start_time": "2025-02-23T07:12:51.279582",
     "status": "completed"
    },
    "tags": []
   },
   "outputs": [],
   "source": [
    "# Specify the path to the CSV file containing the sentiment analysis data\n",
    "filename = \"../input/sentiment-analysis-for-financial-news/all-data.csv\"\n",
    "\n",
    "# Load the CSV file into a pandas DataFrame. The file is expected to have two columns: 'sentiment' and 'text'.\n",
    "df = pd.read_csv(filename, \n",
    "                 names=[\"sentiment\", \"text\"],  # Column names: 'sentiment' for labels and 'text' for headlines\n",
    "                 encoding=\"utf-8\", encoding_errors=\"replace\")  # Handle encoding errors by replacing invalid characters\n",
    "\n",
    "# Initialize empty lists to store training and testing data for each sentiment class\n",
    "X_train = list()\n",
    "X_test = list()\n",
    "\n",
    "# Split the dataset into training and testing sets for each sentiment category: 'positive', 'neutral', and 'negative'\n",
    "for sentiment in [\"positive\", \"neutral\", \"negative\"]:\n",
    "    # Filter the DataFrame by sentiment, and split into training and testing sets with 300 samples each\n",
    "    train, test  = train_test_split(df[df.sentiment == sentiment], \n",
    "                                    train_size=300,  # 300 samples for training\n",
    "                                    test_size=300,   # 300 samples for testing\n",
    "                                    random_state=42)  # Set a random seed for reproducibility\n",
    "    # Append the split data to the respective lists\n",
    "    X_train.append(train)\n",
    "    X_test.append(test)\n",
    "\n",
    "# Combine all training and testing data into single DataFrames and shuffle the training data\n",
    "X_train = pd.concat(X_train).sample(frac=1, random_state=10)  # Shuffle the training data\n",
    "X_test = pd.concat(X_test)\n",
    "\n",
    "# Identify the indices of the rows not used in training or testing to create the evaluation dataset\n",
    "eval_idx = [idx for idx in df.index if idx not in list(train.index) + list(test.index)]\n",
    "# Create the evaluation dataset using the identified indices\n",
    "X_eval = df[df.index.isin(eval_idx)]\n",
    "\n",
    "# For each sentiment, sample 50 examples from the evaluation dataset to ensure balanced representation\n",
    "X_eval = (X_eval\n",
    "          .groupby('sentiment', group_keys=False)  # Group by sentiment\n",
    "          .apply(lambda x: x.sample(n=50, random_state=10, replace=True)))  # Sample 50 examples per group\n",
    "\n",
    "# Reset the index of the training data after shuffling\n",
    "X_train = X_train.reset_index(drop=True)\n",
    "\n",
    "# Function to generate a training prompt for the model, including the sentiment label and text headline\n",
    "def generate_prompt(data_point):\n",
    "    return f\"\"\"generate_prompt\n",
    "            Analyze the sentiment of the news headline enclosed in square brackets, \n",
    "            determine if it is positive, neutral, or negative, and return the answer as \n",
    "            the corresponding sentiment label \"positive\" or \"neutral\" or \"negative\"\n",
    "\n",
    "            [{data_point[\"text\"]}] = {data_point[\"sentiment\"]}\n",
    "            \"\"\".strip() + EOS_TOKEN  # Add the EOS (End-of-Sequence) token\n",
    "\n",
    "# Function to generate a test prompt for the model without a sentiment label (for prediction)\n",
    "def generate_test_prompt(data_point):\n",
    "    return f\"\"\"\n",
    "            Analyze the sentiment of the news headline enclosed in square brackets, \n",
    "            determine if it is positive, neutral, or negative, and return the answer as \n",
    "            the corresponding sentiment label \"positive\" or \"neutral\" or \"negative\"\n",
    "\n",
    "            [{data_point[\"text\"]}] = \n",
    "\n",
    "            \"\"\".strip()  # No sentiment label included for test prompts\n",
    "\n",
    "# Apply the 'generate_prompt' function to each row in the training and evaluation datasets to generate input prompts\n",
    "X_train = pd.DataFrame(X_train.apply(generate_prompt, axis=1), columns=[\"text\"])\n",
    "X_eval = pd.DataFrame(X_eval.apply(generate_prompt, axis=1), columns=[\"text\"])\n",
    "\n",
    "# Extract the true sentiment labels from the test set for evaluation\n",
    "y_true = X_test.sentiment\n",
    "# Apply the 'generate_test_prompt' function to the test set to generate prompts for evaluation\n",
    "X_test = pd.DataFrame(X_test.apply(generate_test_prompt, axis=1), columns=[\"text\"])\n",
    "\n",
    "# Convert the training and evaluation datasets into HuggingFace Datasets for model training\n",
    "train_data = Dataset.from_pandas(X_train)\n",
    "eval_data = Dataset.from_pandas(X_eval)\n"
   ]
  },
  {
   "cell_type": "markdown",
   "id": "a9db7a63-cdea-4272-81e8-fc266b6d6b59",
   "metadata": {},
   "source": [
    "## Evaluation Function  with Accuracy, Classification Report, and Confusion Matrix"
   ]
  },
  {
   "cell_type": "code",
   "execution_count": 9,
   "id": "a1369f3a",
   "metadata": {
    "execution": {
     "iopub.execute_input": "2025-02-23T07:12:51.718201Z",
     "iopub.status.busy": "2025-02-23T07:12:51.717911Z",
     "iopub.status.idle": "2025-02-23T07:12:51.724123Z",
     "shell.execute_reply": "2025-02-23T07:12:51.723431Z"
    },
    "papermill": {
     "duration": 0.031308,
     "end_time": "2025-02-23T07:12:51.725241",
     "exception": false,
     "start_time": "2025-02-23T07:12:51.693933",
     "status": "completed"
    },
    "tags": []
   },
   "outputs": [],
   "source": [
    "def evaluate(y_true, y_pred):\n",
    "    # Define the possible sentiment labels\n",
    "    labels = ['positive', 'neutral', 'negative']\n",
    "    \n",
    "    # Mapping of sentiment labels to numeric values for evaluation\n",
    "    mapping = {'positive': 2, 'neutral': 1, 'none': 1, 'negative': 0}\n",
    "\n",
    "    # Define a function to map sentiment labels to numeric values\n",
    "    def map_func(x):\n",
    "        # Return the mapped value for the sentiment, defaulting to 'neutral' (1) if not found\n",
    "        return mapping.get(x, 1)\n",
    "    \n",
    "    # Apply the map function to the true and predicted labels using numpy's vectorize method\n",
    "    y_true = np.vectorize(map_func)(y_true)\n",
    "    y_pred = np.vectorize(map_func)(y_pred)\n",
    "    \n",
    "    # Calculate the overall accuracy of the predictions compared to the true labels\n",
    "    accuracy = accuracy_score(y_true=y_true, y_pred=y_pred)\n",
    "    print(f'Accuracy: {accuracy:.3f}')\n",
    "    \n",
    "    # Generate an accuracy report for each unique sentiment label\n",
    "    unique_labels = set(y_true)  # Get unique labels from the true labels\n",
    "    \n",
    "    # Loop through each unique label to calculate its accuracy separately\n",
    "    for label in unique_labels:\n",
    "        # Find indices of all occurrences of the current label in the true labels\n",
    "        label_indices = [i for i in range(len(y_true)) if y_true[i] == label]\n",
    "        \n",
    "        # Extract the corresponding true and predicted labels for this sentiment\n",
    "        label_y_true = [y_true[i] for i in label_indices]\n",
    "        label_y_pred = [y_pred[i] for i in label_indices]\n",
    "        \n",
    "        # Calculate the accuracy for the current label\n",
    "        accuracy = accuracy_score(label_y_true, label_y_pred)\n",
    "        print(f'Accuracy for label {label}: {accuracy:.3f}')\n",
    "        \n",
    "    # Generate a classification report that includes precision, recall, and F1-score\n",
    "    class_report = classification_report(y_true=y_true, y_pred=y_pred)\n",
    "    print('\\nClassification Report:')\n",
    "    print(class_report)\n",
    "    \n",
    "    # Generate and print a confusion matrix to show the counts of correct and incorrect predictions\n",
    "    conf_matrix = confusion_matrix(y_true=y_true, y_pred=y_pred, labels=[0, 1, 2])\n",
    "    print('\\nConfusion Matrix:')\n",
    "    print(conf_matrix)\n"
   ]
  },
  {
   "cell_type": "markdown",
   "id": "9b14a4b3-8df1-4104-a796-f8ebec0fd1ee",
   "metadata": {},
   "source": [
    "## Prediction Function"
   ]
  },
  {
   "cell_type": "code",
   "execution_count": 10,
   "id": "fcb189cf",
   "metadata": {
    "execution": {
     "iopub.execute_input": "2025-02-23T07:12:51.860839Z",
     "iopub.status.busy": "2025-02-23T07:12:51.860538Z",
     "iopub.status.idle": "2025-02-23T07:12:51.865495Z",
     "shell.execute_reply": "2025-02-23T07:12:51.864870Z"
    },
    "papermill": {
     "duration": 0.029941,
     "end_time": "2025-02-23T07:12:51.866801",
     "exception": false,
     "start_time": "2025-02-23T07:12:51.836860",
     "status": "completed"
    },
    "tags": []
   },
   "outputs": [],
   "source": [
    "def predict(X_test, model, tokenizer):\n",
    "    # Initialize an empty list to store the predicted labels\n",
    "    y_pred = []\n",
    "    \n",
    "    # Iterate through each test sample in X_test\n",
    "    for i in tqdm(range(len(X_test))):  # Using tqdm for a progress bar over the loop\n",
    "        # Extract the text of the current sample\n",
    "        prompt = X_test.iloc[i][\"text\"]\n",
    "        \n",
    "        # Tokenize the input text and move the tokenized input to GPU (if available)\n",
    "        input_ids = tokenizer(prompt, return_tensors=\"pt\").to(\"cuda\")  # Convert text to input IDs\n",
    "        \n",
    "        # Generate the output from the model by passing the tokenized input\n",
    "        outputs = model.generate(**input_ids, max_new_tokens=1, temperature=0.0)  # Set temperature to 0 for deterministic output\n",
    "        \n",
    "        # Decode the output to get the generated text from the model\n",
    "        result = tokenizer.decode(outputs[0])\n",
    "        \n",
    "        # Split the result at \"=\" and extract the part after the equal sign as the predicted sentiment label\n",
    "        answer = result.split(\"=\")[-1].lower()  # Convert to lowercase for uniformity\n",
    "        \n",
    "        # Check the content of the answer and append the corresponding sentiment label to y_pred\n",
    "        if \"positive\" in answer:\n",
    "            y_pred.append(\"positive\")  # Assign \"positive\" if found in the answer\n",
    "        elif \"negative\" in answer:\n",
    "            y_pred.append(\"negative\")  # Assign \"negative\" if found in the answer\n",
    "        elif \"neutral\" in answer:\n",
    "            y_pred.append(\"neutral\")  # Assign \"neutral\" if found in the answer\n",
    "        else:\n",
    "            y_pred.append(\"none\")  # Assign \"none\" if no sentiment was detected in the answer\n",
    "    \n",
    "    return y_pred  # Return the list of predicted sentiment labels\n"
   ]
  },
  {
   "cell_type": "code",
   "execution_count": 11,
   "id": "d7cad352",
   "metadata": {
    "execution": {
     "iopub.execute_input": "2025-02-23T07:12:51.959651Z",
     "iopub.status.busy": "2025-02-23T07:12:51.959382Z",
     "iopub.status.idle": "2025-02-23T07:19:18.040855Z",
     "shell.execute_reply": "2025-02-23T07:19:18.039901Z"
    },
    "papermill": {
     "duration": 386.106206,
     "end_time": "2025-02-23T07:19:18.042227",
     "exception": false,
     "start_time": "2025-02-23T07:12:51.936021",
     "status": "completed"
    },
    "tags": []
   },
   "outputs": [
    {
     "name": "stderr",
     "output_type": "stream",
     "text": [
      "100%|██████████| 900/900 [06:26<00:00,  2.33it/s]\n"
     ]
    }
   ],
   "source": [
    "y_pred = predict(X_test, model, tokenizer)"
   ]
  },
  {
   "cell_type": "code",
   "execution_count": 12,
   "id": "f059bd95",
   "metadata": {
    "execution": {
     "iopub.execute_input": "2025-02-23T07:19:18.285355Z",
     "iopub.status.busy": "2025-02-23T07:19:18.285055Z",
     "iopub.status.idle": "2025-02-23T07:19:18.302121Z",
     "shell.execute_reply": "2025-02-23T07:19:18.301181Z"
    },
    "papermill": {
     "duration": 0.07986,
     "end_time": "2025-02-23T07:19:18.303310",
     "exception": false,
     "start_time": "2025-02-23T07:19:18.223450",
     "status": "completed"
    },
    "tags": []
   },
   "outputs": [
    {
     "name": "stdout",
     "output_type": "stream",
     "text": [
      "Accuracy: 0.632\n",
      "Accuracy for label 0: 0.807\n",
      "Accuracy for label 1: 0.193\n",
      "Accuracy for label 2: 0.897\n",
      "\n",
      "Classification Report:\n",
      "              precision    recall  f1-score   support\n",
      "\n",
      "           0       0.93      0.81      0.87       300\n",
      "           1       0.46      0.19      0.27       300\n",
      "           2       0.52      0.90      0.66       300\n",
      "\n",
      "    accuracy                           0.63       900\n",
      "   macro avg       0.64      0.63      0.60       900\n",
      "weighted avg       0.64      0.63      0.60       900\n",
      "\n",
      "\n",
      "Confusion Matrix:\n",
      "[[242  41  17]\n",
      " [ 13  58 229]\n",
      " [  4  27 269]]\n"
     ]
    }
   ],
   "source": [
    "evaluate(y_true, y_pred)"
   ]
  },
  {
   "cell_type": "markdown",
   "id": "97bef834-cd0f-4dfb-ae0d-c99aa0f591c2",
   "metadata": {},
   "source": [
    "## PEFT (Parameter-Efficient Fine-Tuning) with LoRA Configuration and Trainer Setup"
   ]
  },
  {
   "cell_type": "code",
   "execution_count": 13,
   "id": "67481944",
   "metadata": {
    "execution": {
     "iopub.execute_input": "2025-02-23T07:19:18.549550Z",
     "iopub.status.busy": "2025-02-23T07:19:18.549211Z",
     "iopub.status.idle": "2025-02-23T07:19:21.876674Z",
     "shell.execute_reply": "2025-02-23T07:19:21.875960Z"
    },
    "papermill": {
     "duration": 3.391131,
     "end_time": "2025-02-23T07:19:21.878308",
     "exception": false,
     "start_time": "2025-02-23T07:19:18.487177",
     "status": "completed"
    },
    "tags": []
   },
   "outputs": [
    {
     "data": {
      "application/vnd.jupyter.widget-view+json": {
       "model_id": "a2214650456f4b27b888922c04bdc170",
       "version_major": 2,
       "version_minor": 0
      },
      "text/plain": [
       "Map:   0%|          | 0/900 [00:00<?, ? examples/s]"
      ]
     },
     "metadata": {},
     "output_type": "display_data"
    },
    {
     "data": {
      "application/vnd.jupyter.widget-view+json": {
       "model_id": "efe4d4da2a724ae198a94410f5bafc28",
       "version_major": 2,
       "version_minor": 0
      },
      "text/plain": [
       "Map:   0%|          | 0/150 [00:00<?, ? examples/s]"
      ]
     },
     "metadata": {},
     "output_type": "display_data"
    }
   ],
   "source": [
    "peft_config = LoraConfig(\n",
    "    lora_alpha=16,\n",
    "    lora_dropout=0,\n",
    "    r=64,\n",
    "    bias=\"none\",\n",
    "    task_type=\"CAUSAL_LM\",\n",
    "    target_modules=[\"q_proj\", \"k_proj\", \"v_proj\", \"o_proj\",\n",
    "                    \"gate_proj\", \"up_proj\", \"down_proj\",],\n",
    ")\n",
    "\n",
    "training_arguments = TrainingArguments(\n",
    "    output_dir=\"logs\",\n",
    "    num_train_epochs=1,\n",
    "    gradient_checkpointing=True,\n",
    "    per_device_train_batch_size=1,\n",
    "    gradient_accumulation_steps=8,\n",
    "    optim=\"paged_adamw_32bit\",\n",
    "    save_steps=0,\n",
    "    logging_steps=25,\n",
    "    learning_rate=2e-4,\n",
    "    weight_decay=0.001,\n",
    "    fp16=True,\n",
    "    bf16=False,\n",
    "    max_grad_norm=0.3,\n",
    "    max_steps=-1,\n",
    "    warmup_ratio=0.03,\n",
    "    group_by_length=False,\n",
    "    evaluation_strategy='steps',\n",
    "    eval_steps = 112,\n",
    "    eval_accumulation_steps=1,\n",
    "    lr_scheduler_type=\"cosine\",\n",
    "    report_to=\"tensorboard\",\n",
    ")\n",
    "\n",
    "trainer = SFTTrainer(\n",
    "    model=model,\n",
    "    train_dataset=train_data,\n",
    "    eval_dataset=eval_data,\n",
    "    peft_config=peft_config,\n",
    "    dataset_text_field=\"text\",\n",
    "    tokenizer=tokenizer,\n",
    "    max_seq_length=max_seq_length,\n",
    "    args=training_arguments,\n",
    "    packing=False,\n",
    ")"
   ]
  },
  {
   "cell_type": "code",
   "execution_count": 14,
   "id": "07b20998",
   "metadata": {
    "execution": {
     "iopub.execute_input": "2025-02-23T07:19:22.130990Z",
     "iopub.status.busy": "2025-02-23T07:19:22.130649Z",
     "iopub.status.idle": "2025-02-23T07:43:51.053292Z",
     "shell.execute_reply": "2025-02-23T07:43:51.052294Z"
    },
    "papermill": {
     "duration": 1468.98666,
     "end_time": "2025-02-23T07:43:51.055075",
     "exception": false,
     "start_time": "2025-02-23T07:19:22.068415",
     "status": "completed"
    },
    "tags": []
   },
   "outputs": [
    {
     "data": {
      "text/html": [
       "\n",
       "    <div>\n",
       "      \n",
       "      <progress value='112' max='112' style='width:300px; height:20px; vertical-align: middle;'></progress>\n",
       "      [112/112 24:14, Epoch 0/1]\n",
       "    </div>\n",
       "    <table border=\"1\" class=\"dataframe\">\n",
       "  <thead>\n",
       " <tr style=\"text-align: left;\">\n",
       "      <th>Step</th>\n",
       "      <th>Training Loss</th>\n",
       "      <th>Validation Loss</th>\n",
       "    </tr>\n",
       "  </thead>\n",
       "  <tbody>\n",
       "    <tr>\n",
       "      <td>112</td>\n",
       "      <td>0.834300</td>\n",
       "      <td>1.525713</td>\n",
       "    </tr>\n",
       "  </tbody>\n",
       "</table><p>"
      ],
      "text/plain": [
       "<IPython.core.display.HTML object>"
      ]
     },
     "metadata": {},
     "output_type": "display_data"
    }
   ],
   "source": [
    "# Train model\n",
    "trainer.train()\n",
    "\n",
    "# Save trained model\n",
    "trainer.model.save_pretrained(\"trained-model\")"
   ]
  },
  {
   "cell_type": "code",
   "execution_count": 15,
   "id": "9b730924",
   "metadata": {
    "execution": {
     "iopub.execute_input": "2025-02-23T07:43:51.312435Z",
     "iopub.status.busy": "2025-02-23T07:43:51.311746Z",
     "iopub.status.idle": "2025-02-23T07:43:57.378049Z",
     "shell.execute_reply": "2025-02-23T07:43:57.377286Z"
    },
    "papermill": {
     "duration": 6.130353,
     "end_time": "2025-02-23T07:43:57.379442",
     "exception": false,
     "start_time": "2025-02-23T07:43:51.249089",
     "status": "completed"
    },
    "tags": []
   },
   "outputs": [
    {
     "data": {
      "application/javascript": [
       "\n",
       "        (async () => {\n",
       "            const url = new URL(await google.colab.kernel.proxyPort(6006, {'cache': true}));\n",
       "            url.searchParams.set('tensorboardColab', 'true');\n",
       "            const iframe = document.createElement('iframe');\n",
       "            iframe.src = url;\n",
       "            iframe.setAttribute('width', '100%');\n",
       "            iframe.setAttribute('height', '800');\n",
       "            iframe.setAttribute('frameborder', 0);\n",
       "            document.body.appendChild(iframe);\n",
       "        })();\n",
       "    "
      ],
      "text/plain": [
       "<IPython.core.display.Javascript object>"
      ]
     },
     "metadata": {},
     "output_type": "display_data"
    }
   ],
   "source": [
    "%load_ext tensorboard\n",
    "%tensorboard --logdir logs/runs"
   ]
  },
  {
   "cell_type": "markdown",
   "id": "9a033394-31e8-4321-8cce-4a3a930ff936",
   "metadata": {},
   "source": [
    "## Predict and Evaluate Sentiment Labels on Test Data"
   ]
  },
  {
   "cell_type": "code",
   "execution_count": 16,
   "id": "82e52c0e",
   "metadata": {
    "execution": {
     "iopub.execute_input": "2025-02-23T07:43:57.632064Z",
     "iopub.status.busy": "2025-02-23T07:43:57.631762Z",
     "iopub.status.idle": "2025-02-23T07:50:58.794182Z",
     "shell.execute_reply": "2025-02-23T07:50:58.793015Z"
    },
    "papermill": {
     "duration": 421.226883,
     "end_time": "2025-02-23T07:50:58.796003",
     "exception": false,
     "start_time": "2025-02-23T07:43:57.569120",
     "status": "completed"
    },
    "tags": []
   },
   "outputs": [
    {
     "name": "stderr",
     "output_type": "stream",
     "text": [
      "100%|██████████| 900/900 [07:01<00:00,  2.14it/s]"
     ]
    },
    {
     "name": "stdout",
     "output_type": "stream",
     "text": [
      "Accuracy: 0.844\n",
      "Accuracy for label 0: 0.920\n",
      "Accuracy for label 1: 0.873\n",
      "Accuracy for label 2: 0.740\n",
      "\n",
      "Classification Report:\n",
      "              precision    recall  f1-score   support\n",
      "\n",
      "           0       0.95      0.92      0.93       300\n",
      "           1       0.74      0.87      0.80       300\n",
      "           2       0.88      0.74      0.80       300\n",
      "\n",
      "    accuracy                           0.84       900\n",
      "   macro avg       0.85      0.84      0.85       900\n",
      "weighted avg       0.85      0.84      0.85       900\n",
      "\n",
      "\n",
      "Confusion Matrix:\n",
      "[[276  20   4]\n",
      " [ 11 262  27]\n",
      " [  4  74 222]]\n"
     ]
    },
    {
     "name": "stderr",
     "output_type": "stream",
     "text": [
      "\n"
     ]
    }
   ],
   "source": [
    "y_pred = predict(X_test, model, tokenizer)\n",
    "evaluate(y_true, y_pred)"
   ]
  },
  {
   "cell_type": "code",
   "execution_count": 17,
   "id": "852e89a0",
   "metadata": {
    "execution": {
     "iopub.execute_input": "2025-02-23T07:50:59.251249Z",
     "iopub.status.busy": "2025-02-23T07:50:59.250952Z",
     "iopub.status.idle": "2025-02-23T07:50:59.276419Z",
     "shell.execute_reply": "2025-02-23T07:50:59.275688Z"
    },
    "papermill": {
     "duration": 0.134039,
     "end_time": "2025-02-23T07:50:59.277704",
     "exception": false,
     "start_time": "2025-02-23T07:50:59.143665",
     "status": "completed"
    },
    "tags": []
   },
   "outputs": [],
   "source": [
    "evaluation = pd.DataFrame({'text': X_test[\"text\"], \n",
    "                           'y_true':y_true, \n",
    "                           'y_pred': y_pred},\n",
    "                         )\n",
    "evaluation.to_csv(\"test_predictions.csv\", index=False)"
   ]
  }
 ],
 "metadata": {
  "kaggle": {
   "accelerator": "gpu",
   "dataSources": [
    {
     "datasetId": 622510,
     "sourceId": 1192499,
     "sourceType": "datasetVersion"
    },
    {
     "modelId": 3301,
     "modelInstanceId": 8332,
     "sourceId": 11261,
     "sourceType": "modelInstanceVersion"
    }
   ],
   "isGpuEnabled": true,
   "isInternetEnabled": true,
   "language": "python",
   "sourceType": "notebook"
  },
  "kernelspec": {
   "display_name": "Python 3 (ipykernel)",
   "language": "python",
   "name": "python3"
  },
  "language_info": {
   "codemirror_mode": {
    "name": "ipython",
    "version": 3
   },
   "file_extension": ".py",
   "mimetype": "text/x-python",
   "name": "python",
   "nbconvert_exporter": "python",
   "pygments_lexer": "ipython3",
   "version": "3.12.7"
  },
  "papermill": {
   "default_parameters": {},
   "duration": 2430.012055,
   "end_time": "2025-02-23T07:51:02.784642",
   "environment_variables": {},
   "exception": null,
   "input_path": "__notebook__.ipynb",
   "output_path": "__notebook__.ipynb",
   "parameters": {},
   "start_time": "2025-02-23T07:10:32.772587",
   "version": "2.4.0"
  },
  "widgets": {
   "application/vnd.jupyter.widget-state+json": {
    "state": {
     "0ad107b39a4642b89bf74cab33c1bfbd": {
      "model_module": "@jupyter-widgets/controls",
      "model_module_version": "2.0.0",
      "model_name": "FloatProgressModel",
      "state": {
       "_dom_classes": [],
       "_model_module": "@jupyter-widgets/controls",
       "_model_module_version": "2.0.0",
       "_model_name": "FloatProgressModel",
       "_view_count": null,
       "_view_module": "@jupyter-widgets/controls",
       "_view_module_version": "2.0.0",
       "_view_name": "ProgressView",
       "bar_style": "success",
       "description": "",
       "description_allow_html": false,
       "layout": "IPY_MODEL_142ab7bb5df742e9a877238f67995536",
       "max": 900,
       "min": 0,
       "orientation": "horizontal",
       "style": "IPY_MODEL_ec82283ff18947e1a7b61026039ab37a",
       "tabbable": null,
       "tooltip": null,
       "value": 900
      }
     },
     "0ddcde73b3814414a1bb788370565b6a": {
      "model_module": "@jupyter-widgets/base",
      "model_module_version": "2.0.0",
      "model_name": "LayoutModel",
      "state": {
       "_model_module": "@jupyter-widgets/base",
       "_model_module_version": "2.0.0",
       "_model_name": "LayoutModel",
       "_view_count": null,
       "_view_module": "@jupyter-widgets/base",
       "_view_module_version": "2.0.0",
       "_view_name": "LayoutView",
       "align_content": null,
       "align_items": null,
       "align_self": null,
       "border_bottom": null,
       "border_left": null,
       "border_right": null,
       "border_top": null,
       "bottom": null,
       "display": null,
       "flex": null,
       "flex_flow": null,
       "grid_area": null,
       "grid_auto_columns": null,
       "grid_auto_flow": null,
       "grid_auto_rows": null,
       "grid_column": null,
       "grid_gap": null,
       "grid_row": null,
       "grid_template_areas": null,
       "grid_template_columns": null,
       "grid_template_rows": null,
       "height": null,
       "justify_content": null,
       "justify_items": null,
       "left": null,
       "margin": null,
       "max_height": null,
       "max_width": null,
       "min_height": null,
       "min_width": null,
       "object_fit": null,
       "object_position": null,
       "order": null,
       "overflow": null,
       "padding": null,
       "right": null,
       "top": null,
       "visibility": null,
       "width": null
      }
     },
     "101c99270fd844a1b52f148b6d4513a5": {
      "model_module": "@jupyter-widgets/controls",
      "model_module_version": "2.0.0",
      "model_name": "HBoxModel",
      "state": {
       "_dom_classes": [],
       "_model_module": "@jupyter-widgets/controls",
       "_model_module_version": "2.0.0",
       "_model_name": "HBoxModel",
       "_view_count": null,
       "_view_module": "@jupyter-widgets/controls",
       "_view_module_version": "2.0.0",
       "_view_name": "HBoxView",
       "box_style": "",
       "children": [
        "IPY_MODEL_53aeaed5476a45f28ca633e831bd2e88",
        "IPY_MODEL_85b8893782c94ee5aec83e5f853c3605",
        "IPY_MODEL_8cb23742b0024326be7cc9355afb1ab6"
       ],
       "layout": "IPY_MODEL_a6cb1301c9114e43893ca21f75010850",
       "tabbable": null,
       "tooltip": null
      }
     },
     "142ab7bb5df742e9a877238f67995536": {
      "model_module": "@jupyter-widgets/base",
      "model_module_version": "2.0.0",
      "model_name": "LayoutModel",
      "state": {
       "_model_module": "@jupyter-widgets/base",
       "_model_module_version": "2.0.0",
       "_model_name": "LayoutModel",
       "_view_count": null,
       "_view_module": "@jupyter-widgets/base",
       "_view_module_version": "2.0.0",
       "_view_name": "LayoutView",
       "align_content": null,
       "align_items": null,
       "align_self": null,
       "border_bottom": null,
       "border_left": null,
       "border_right": null,
       "border_top": null,
       "bottom": null,
       "display": null,
       "flex": null,
       "flex_flow": null,
       "grid_area": null,
       "grid_auto_columns": null,
       "grid_auto_flow": null,
       "grid_auto_rows": null,
       "grid_column": null,
       "grid_gap": null,
       "grid_row": null,
       "grid_template_areas": null,
       "grid_template_columns": null,
       "grid_template_rows": null,
       "height": null,
       "justify_content": null,
       "justify_items": null,
       "left": null,
       "margin": null,
       "max_height": null,
       "max_width": null,
       "min_height": null,
       "min_width": null,
       "object_fit": null,
       "object_position": null,
       "order": null,
       "overflow": null,
       "padding": null,
       "right": null,
       "top": null,
       "visibility": null,
       "width": null
      }
     },
     "1a26c7bb54cb403eb3857ff13a186fc4": {
      "model_module": "@jupyter-widgets/base",
      "model_module_version": "2.0.0",
      "model_name": "LayoutModel",
      "state": {
       "_model_module": "@jupyter-widgets/base",
       "_model_module_version": "2.0.0",
       "_model_name": "LayoutModel",
       "_view_count": null,
       "_view_module": "@jupyter-widgets/base",
       "_view_module_version": "2.0.0",
       "_view_name": "LayoutView",
       "align_content": null,
       "align_items": null,
       "align_self": null,
       "border_bottom": null,
       "border_left": null,
       "border_right": null,
       "border_top": null,
       "bottom": null,
       "display": null,
       "flex": null,
       "flex_flow": null,
       "grid_area": null,
       "grid_auto_columns": null,
       "grid_auto_flow": null,
       "grid_auto_rows": null,
       "grid_column": null,
       "grid_gap": null,
       "grid_row": null,
       "grid_template_areas": null,
       "grid_template_columns": null,
       "grid_template_rows": null,
       "height": null,
       "justify_content": null,
       "justify_items": null,
       "left": null,
       "margin": null,
       "max_height": null,
       "max_width": null,
       "min_height": null,
       "min_width": null,
       "object_fit": null,
       "object_position": null,
       "order": null,
       "overflow": null,
       "padding": null,
       "right": null,
       "top": null,
       "visibility": null,
       "width": null
      }
     },
     "2d8ffba7dbeb43d6bc895b5f9e7c3a87": {
      "model_module": "@jupyter-widgets/controls",
      "model_module_version": "2.0.0",
      "model_name": "HTMLModel",
      "state": {
       "_dom_classes": [],
       "_model_module": "@jupyter-widgets/controls",
       "_model_module_version": "2.0.0",
       "_model_name": "HTMLModel",
       "_view_count": null,
       "_view_module": "@jupyter-widgets/controls",
       "_view_module_version": "2.0.0",
       "_view_name": "HTMLView",
       "description": "",
       "description_allow_html": false,
       "layout": "IPY_MODEL_5d61d6881c39449c8df845842e5a82a2",
       "placeholder": "​",
       "style": "IPY_MODEL_6981b0ef3736452ba1b10ea96f058a82",
       "tabbable": null,
       "tooltip": null,
       "value": " 150/150 [00:00&lt;00:00, 2957.40 examples/s]"
      }
     },
     "49b25c820671442e8aec5af548002684": {
      "model_module": "@jupyter-widgets/base",
      "model_module_version": "2.0.0",
      "model_name": "LayoutModel",
      "state": {
       "_model_module": "@jupyter-widgets/base",
       "_model_module_version": "2.0.0",
       "_model_name": "LayoutModel",
       "_view_count": null,
       "_view_module": "@jupyter-widgets/base",
       "_view_module_version": "2.0.0",
       "_view_name": "LayoutView",
       "align_content": null,
       "align_items": null,
       "align_self": null,
       "border_bottom": null,
       "border_left": null,
       "border_right": null,
       "border_top": null,
       "bottom": null,
       "display": null,
       "flex": null,
       "flex_flow": null,
       "grid_area": null,
       "grid_auto_columns": null,
       "grid_auto_flow": null,
       "grid_auto_rows": null,
       "grid_column": null,
       "grid_gap": null,
       "grid_row": null,
       "grid_template_areas": null,
       "grid_template_columns": null,
       "grid_template_rows": null,
       "height": null,
       "justify_content": null,
       "justify_items": null,
       "left": null,
       "margin": null,
       "max_height": null,
       "max_width": null,
       "min_height": null,
       "min_width": null,
       "object_fit": null,
       "object_position": null,
       "order": null,
       "overflow": null,
       "padding": null,
       "right": null,
       "top": null,
       "visibility": null,
       "width": null
      }
     },
     "53aeaed5476a45f28ca633e831bd2e88": {
      "model_module": "@jupyter-widgets/controls",
      "model_module_version": "2.0.0",
      "model_name": "HTMLModel",
      "state": {
       "_dom_classes": [],
       "_model_module": "@jupyter-widgets/controls",
       "_model_module_version": "2.0.0",
       "_model_name": "HTMLModel",
       "_view_count": null,
       "_view_module": "@jupyter-widgets/controls",
       "_view_module_version": "2.0.0",
       "_view_name": "HTMLView",
       "description": "",
       "description_allow_html": false,
       "layout": "IPY_MODEL_dd6adbc78ccf4af99402ca4dc515218d",
       "placeholder": "​",
       "style": "IPY_MODEL_ca308eee177747c09fea5aa0ba45bf43",
       "tabbable": null,
       "tooltip": null,
       "value": "Loading checkpoint shards: 100%"
      }
     },
     "5d61d6881c39449c8df845842e5a82a2": {
      "model_module": "@jupyter-widgets/base",
      "model_module_version": "2.0.0",
      "model_name": "LayoutModel",
      "state": {
       "_model_module": "@jupyter-widgets/base",
       "_model_module_version": "2.0.0",
       "_model_name": "LayoutModel",
       "_view_count": null,
       "_view_module": "@jupyter-widgets/base",
       "_view_module_version": "2.0.0",
       "_view_name": "LayoutView",
       "align_content": null,
       "align_items": null,
       "align_self": null,
       "border_bottom": null,
       "border_left": null,
       "border_right": null,
       "border_top": null,
       "bottom": null,
       "display": null,
       "flex": null,
       "flex_flow": null,
       "grid_area": null,
       "grid_auto_columns": null,
       "grid_auto_flow": null,
       "grid_auto_rows": null,
       "grid_column": null,
       "grid_gap": null,
       "grid_row": null,
       "grid_template_areas": null,
       "grid_template_columns": null,
       "grid_template_rows": null,
       "height": null,
       "justify_content": null,
       "justify_items": null,
       "left": null,
       "margin": null,
       "max_height": null,
       "max_width": null,
       "min_height": null,
       "min_width": null,
       "object_fit": null,
       "object_position": null,
       "order": null,
       "overflow": null,
       "padding": null,
       "right": null,
       "top": null,
       "visibility": null,
       "width": null
      }
     },
     "689f299c1cc7401db7f451526424dfb5": {
      "model_module": "@jupyter-widgets/controls",
      "model_module_version": "2.0.0",
      "model_name": "FloatProgressModel",
      "state": {
       "_dom_classes": [],
       "_model_module": "@jupyter-widgets/controls",
       "_model_module_version": "2.0.0",
       "_model_name": "FloatProgressModel",
       "_view_count": null,
       "_view_module": "@jupyter-widgets/controls",
       "_view_module_version": "2.0.0",
       "_view_name": "ProgressView",
       "bar_style": "success",
       "description": "",
       "description_allow_html": false,
       "layout": "IPY_MODEL_f5d2b0538ba9449ab1772a08a7ffbc1f",
       "max": 150,
       "min": 0,
       "orientation": "horizontal",
       "style": "IPY_MODEL_eb4a05b4e69c497ebd04eb69deca5639",
       "tabbable": null,
       "tooltip": null,
       "value": 150
      }
     },
     "6981b0ef3736452ba1b10ea96f058a82": {
      "model_module": "@jupyter-widgets/controls",
      "model_module_version": "2.0.0",
      "model_name": "HTMLStyleModel",
      "state": {
       "_model_module": "@jupyter-widgets/controls",
       "_model_module_version": "2.0.0",
       "_model_name": "HTMLStyleModel",
       "_view_count": null,
       "_view_module": "@jupyter-widgets/base",
       "_view_module_version": "2.0.0",
       "_view_name": "StyleView",
       "background": null,
       "description_width": "",
       "font_size": null,
       "text_color": null
      }
     },
     "708acca73e7a4ed49f7f9524ae9dea1f": {
      "model_module": "@jupyter-widgets/controls",
      "model_module_version": "2.0.0",
      "model_name": "ProgressStyleModel",
      "state": {
       "_model_module": "@jupyter-widgets/controls",
       "_model_module_version": "2.0.0",
       "_model_name": "ProgressStyleModel",
       "_view_count": null,
       "_view_module": "@jupyter-widgets/base",
       "_view_module_version": "2.0.0",
       "_view_name": "StyleView",
       "bar_color": null,
       "description_width": ""
      }
     },
     "85b8893782c94ee5aec83e5f853c3605": {
      "model_module": "@jupyter-widgets/controls",
      "model_module_version": "2.0.0",
      "model_name": "FloatProgressModel",
      "state": {
       "_dom_classes": [],
       "_model_module": "@jupyter-widgets/controls",
       "_model_module_version": "2.0.0",
       "_model_name": "FloatProgressModel",
       "_view_count": null,
       "_view_module": "@jupyter-widgets/controls",
       "_view_module_version": "2.0.0",
       "_view_name": "ProgressView",
       "bar_style": "success",
       "description": "",
       "description_allow_html": false,
       "layout": "IPY_MODEL_af1bf5f66f564c5bbbfa19c4df69b5bf",
       "max": 4,
       "min": 0,
       "orientation": "horizontal",
       "style": "IPY_MODEL_708acca73e7a4ed49f7f9524ae9dea1f",
       "tabbable": null,
       "tooltip": null,
       "value": 4
      }
     },
     "8a9e5f1c47db45b98715f8a1a11615e0": {
      "model_module": "@jupyter-widgets/controls",
      "model_module_version": "2.0.0",
      "model_name": "HTMLModel",
      "state": {
       "_dom_classes": [],
       "_model_module": "@jupyter-widgets/controls",
       "_model_module_version": "2.0.0",
       "_model_name": "HTMLModel",
       "_view_count": null,
       "_view_module": "@jupyter-widgets/controls",
       "_view_module_version": "2.0.0",
       "_view_name": "HTMLView",
       "description": "",
       "description_allow_html": false,
       "layout": "IPY_MODEL_ae797655c5a34f45bcb250ece6900d47",
       "placeholder": "​",
       "style": "IPY_MODEL_f74708570ad84a58939d94e2ab1a898e",
       "tabbable": null,
       "tooltip": null,
       "value": " 900/900 [00:00&lt;00:00, 3279.34 examples/s]"
      }
     },
     "8cb23742b0024326be7cc9355afb1ab6": {
      "model_module": "@jupyter-widgets/controls",
      "model_module_version": "2.0.0",
      "model_name": "HTMLModel",
      "state": {
       "_dom_classes": [],
       "_model_module": "@jupyter-widgets/controls",
       "_model_module_version": "2.0.0",
       "_model_name": "HTMLModel",
       "_view_count": null,
       "_view_module": "@jupyter-widgets/controls",
       "_view_module_version": "2.0.0",
       "_view_name": "HTMLView",
       "description": "",
       "description_allow_html": false,
       "layout": "IPY_MODEL_0ddcde73b3814414a1bb788370565b6a",
       "placeholder": "​",
       "style": "IPY_MODEL_c27b49ced16443adadf31bdf8da0dc50",
       "tabbable": null,
       "tooltip": null,
       "value": " 4/4 [01:06&lt;00:00, 15.09s/it]"
      }
     },
     "9f65903ef82e470d80baa52c3a8dae18": {
      "model_module": "@jupyter-widgets/controls",
      "model_module_version": "2.0.0",
      "model_name": "HTMLStyleModel",
      "state": {
       "_model_module": "@jupyter-widgets/controls",
       "_model_module_version": "2.0.0",
       "_model_name": "HTMLStyleModel",
       "_view_count": null,
       "_view_module": "@jupyter-widgets/base",
       "_view_module_version": "2.0.0",
       "_view_name": "StyleView",
       "background": null,
       "description_width": "",
       "font_size": null,
       "text_color": null
      }
     },
     "a2214650456f4b27b888922c04bdc170": {
      "model_module": "@jupyter-widgets/controls",
      "model_module_version": "2.0.0",
      "model_name": "HBoxModel",
      "state": {
       "_dom_classes": [],
       "_model_module": "@jupyter-widgets/controls",
       "_model_module_version": "2.0.0",
       "_model_name": "HBoxModel",
       "_view_count": null,
       "_view_module": "@jupyter-widgets/controls",
       "_view_module_version": "2.0.0",
       "_view_name": "HBoxView",
       "box_style": "",
       "children": [
        "IPY_MODEL_c97f8b4d4b7e47e2aa529426323147e7",
        "IPY_MODEL_0ad107b39a4642b89bf74cab33c1bfbd",
        "IPY_MODEL_8a9e5f1c47db45b98715f8a1a11615e0"
       ],
       "layout": "IPY_MODEL_b8e64a610121402ea1db46adb1a27bc3",
       "tabbable": null,
       "tooltip": null
      }
     },
     "a6cb1301c9114e43893ca21f75010850": {
      "model_module": "@jupyter-widgets/base",
      "model_module_version": "2.0.0",
      "model_name": "LayoutModel",
      "state": {
       "_model_module": "@jupyter-widgets/base",
       "_model_module_version": "2.0.0",
       "_model_name": "LayoutModel",
       "_view_count": null,
       "_view_module": "@jupyter-widgets/base",
       "_view_module_version": "2.0.0",
       "_view_name": "LayoutView",
       "align_content": null,
       "align_items": null,
       "align_self": null,
       "border_bottom": null,
       "border_left": null,
       "border_right": null,
       "border_top": null,
       "bottom": null,
       "display": null,
       "flex": null,
       "flex_flow": null,
       "grid_area": null,
       "grid_auto_columns": null,
       "grid_auto_flow": null,
       "grid_auto_rows": null,
       "grid_column": null,
       "grid_gap": null,
       "grid_row": null,
       "grid_template_areas": null,
       "grid_template_columns": null,
       "grid_template_rows": null,
       "height": null,
       "justify_content": null,
       "justify_items": null,
       "left": null,
       "margin": null,
       "max_height": null,
       "max_width": null,
       "min_height": null,
       "min_width": null,
       "object_fit": null,
       "object_position": null,
       "order": null,
       "overflow": null,
       "padding": null,
       "right": null,
       "top": null,
       "visibility": null,
       "width": null
      }
     },
     "ae797655c5a34f45bcb250ece6900d47": {
      "model_module": "@jupyter-widgets/base",
      "model_module_version": "2.0.0",
      "model_name": "LayoutModel",
      "state": {
       "_model_module": "@jupyter-widgets/base",
       "_model_module_version": "2.0.0",
       "_model_name": "LayoutModel",
       "_view_count": null,
       "_view_module": "@jupyter-widgets/base",
       "_view_module_version": "2.0.0",
       "_view_name": "LayoutView",
       "align_content": null,
       "align_items": null,
       "align_self": null,
       "border_bottom": null,
       "border_left": null,
       "border_right": null,
       "border_top": null,
       "bottom": null,
       "display": null,
       "flex": null,
       "flex_flow": null,
       "grid_area": null,
       "grid_auto_columns": null,
       "grid_auto_flow": null,
       "grid_auto_rows": null,
       "grid_column": null,
       "grid_gap": null,
       "grid_row": null,
       "grid_template_areas": null,
       "grid_template_columns": null,
       "grid_template_rows": null,
       "height": null,
       "justify_content": null,
       "justify_items": null,
       "left": null,
       "margin": null,
       "max_height": null,
       "max_width": null,
       "min_height": null,
       "min_width": null,
       "object_fit": null,
       "object_position": null,
       "order": null,
       "overflow": null,
       "padding": null,
       "right": null,
       "top": null,
       "visibility": null,
       "width": null
      }
     },
     "af1bf5f66f564c5bbbfa19c4df69b5bf": {
      "model_module": "@jupyter-widgets/base",
      "model_module_version": "2.0.0",
      "model_name": "LayoutModel",
      "state": {
       "_model_module": "@jupyter-widgets/base",
       "_model_module_version": "2.0.0",
       "_model_name": "LayoutModel",
       "_view_count": null,
       "_view_module": "@jupyter-widgets/base",
       "_view_module_version": "2.0.0",
       "_view_name": "LayoutView",
       "align_content": null,
       "align_items": null,
       "align_self": null,
       "border_bottom": null,
       "border_left": null,
       "border_right": null,
       "border_top": null,
       "bottom": null,
       "display": null,
       "flex": null,
       "flex_flow": null,
       "grid_area": null,
       "grid_auto_columns": null,
       "grid_auto_flow": null,
       "grid_auto_rows": null,
       "grid_column": null,
       "grid_gap": null,
       "grid_row": null,
       "grid_template_areas": null,
       "grid_template_columns": null,
       "grid_template_rows": null,
       "height": null,
       "justify_content": null,
       "justify_items": null,
       "left": null,
       "margin": null,
       "max_height": null,
       "max_width": null,
       "min_height": null,
       "min_width": null,
       "object_fit": null,
       "object_position": null,
       "order": null,
       "overflow": null,
       "padding": null,
       "right": null,
       "top": null,
       "visibility": null,
       "width": null
      }
     },
     "b8e64a610121402ea1db46adb1a27bc3": {
      "model_module": "@jupyter-widgets/base",
      "model_module_version": "2.0.0",
      "model_name": "LayoutModel",
      "state": {
       "_model_module": "@jupyter-widgets/base",
       "_model_module_version": "2.0.0",
       "_model_name": "LayoutModel",
       "_view_count": null,
       "_view_module": "@jupyter-widgets/base",
       "_view_module_version": "2.0.0",
       "_view_name": "LayoutView",
       "align_content": null,
       "align_items": null,
       "align_self": null,
       "border_bottom": null,
       "border_left": null,
       "border_right": null,
       "border_top": null,
       "bottom": null,
       "display": null,
       "flex": null,
       "flex_flow": null,
       "grid_area": null,
       "grid_auto_columns": null,
       "grid_auto_flow": null,
       "grid_auto_rows": null,
       "grid_column": null,
       "grid_gap": null,
       "grid_row": null,
       "grid_template_areas": null,
       "grid_template_columns": null,
       "grid_template_rows": null,
       "height": null,
       "justify_content": null,
       "justify_items": null,
       "left": null,
       "margin": null,
       "max_height": null,
       "max_width": null,
       "min_height": null,
       "min_width": null,
       "object_fit": null,
       "object_position": null,
       "order": null,
       "overflow": null,
       "padding": null,
       "right": null,
       "top": null,
       "visibility": null,
       "width": null
      }
     },
     "c27b49ced16443adadf31bdf8da0dc50": {
      "model_module": "@jupyter-widgets/controls",
      "model_module_version": "2.0.0",
      "model_name": "HTMLStyleModel",
      "state": {
       "_model_module": "@jupyter-widgets/controls",
       "_model_module_version": "2.0.0",
       "_model_name": "HTMLStyleModel",
       "_view_count": null,
       "_view_module": "@jupyter-widgets/base",
       "_view_module_version": "2.0.0",
       "_view_name": "StyleView",
       "background": null,
       "description_width": "",
       "font_size": null,
       "text_color": null
      }
     },
     "c6cdb5c64dcf45ecae5bee982759d683": {
      "model_module": "@jupyter-widgets/controls",
      "model_module_version": "2.0.0",
      "model_name": "HTMLStyleModel",
      "state": {
       "_model_module": "@jupyter-widgets/controls",
       "_model_module_version": "2.0.0",
       "_model_name": "HTMLStyleModel",
       "_view_count": null,
       "_view_module": "@jupyter-widgets/base",
       "_view_module_version": "2.0.0",
       "_view_name": "StyleView",
       "background": null,
       "description_width": "",
       "font_size": null,
       "text_color": null
      }
     },
     "c97f8b4d4b7e47e2aa529426323147e7": {
      "model_module": "@jupyter-widgets/controls",
      "model_module_version": "2.0.0",
      "model_name": "HTMLModel",
      "state": {
       "_dom_classes": [],
       "_model_module": "@jupyter-widgets/controls",
       "_model_module_version": "2.0.0",
       "_model_name": "HTMLModel",
       "_view_count": null,
       "_view_module": "@jupyter-widgets/controls",
       "_view_module_version": "2.0.0",
       "_view_name": "HTMLView",
       "description": "",
       "description_allow_html": false,
       "layout": "IPY_MODEL_ee14c20462c849b6bd02221cb8a965ee",
       "placeholder": "​",
       "style": "IPY_MODEL_9f65903ef82e470d80baa52c3a8dae18",
       "tabbable": null,
       "tooltip": null,
       "value": "Map: 100%"
      }
     },
     "ca308eee177747c09fea5aa0ba45bf43": {
      "model_module": "@jupyter-widgets/controls",
      "model_module_version": "2.0.0",
      "model_name": "HTMLStyleModel",
      "state": {
       "_model_module": "@jupyter-widgets/controls",
       "_model_module_version": "2.0.0",
       "_model_name": "HTMLStyleModel",
       "_view_count": null,
       "_view_module": "@jupyter-widgets/base",
       "_view_module_version": "2.0.0",
       "_view_name": "StyleView",
       "background": null,
       "description_width": "",
       "font_size": null,
       "text_color": null
      }
     },
     "db305dec6e4f457cad3878f43853bc9f": {
      "model_module": "@jupyter-widgets/controls",
      "model_module_version": "2.0.0",
      "model_name": "HTMLModel",
      "state": {
       "_dom_classes": [],
       "_model_module": "@jupyter-widgets/controls",
       "_model_module_version": "2.0.0",
       "_model_name": "HTMLModel",
       "_view_count": null,
       "_view_module": "@jupyter-widgets/controls",
       "_view_module_version": "2.0.0",
       "_view_name": "HTMLView",
       "description": "",
       "description_allow_html": false,
       "layout": "IPY_MODEL_1a26c7bb54cb403eb3857ff13a186fc4",
       "placeholder": "​",
       "style": "IPY_MODEL_c6cdb5c64dcf45ecae5bee982759d683",
       "tabbable": null,
       "tooltip": null,
       "value": "Map: 100%"
      }
     },
     "dd6adbc78ccf4af99402ca4dc515218d": {
      "model_module": "@jupyter-widgets/base",
      "model_module_version": "2.0.0",
      "model_name": "LayoutModel",
      "state": {
       "_model_module": "@jupyter-widgets/base",
       "_model_module_version": "2.0.0",
       "_model_name": "LayoutModel",
       "_view_count": null,
       "_view_module": "@jupyter-widgets/base",
       "_view_module_version": "2.0.0",
       "_view_name": "LayoutView",
       "align_content": null,
       "align_items": null,
       "align_self": null,
       "border_bottom": null,
       "border_left": null,
       "border_right": null,
       "border_top": null,
       "bottom": null,
       "display": null,
       "flex": null,
       "flex_flow": null,
       "grid_area": null,
       "grid_auto_columns": null,
       "grid_auto_flow": null,
       "grid_auto_rows": null,
       "grid_column": null,
       "grid_gap": null,
       "grid_row": null,
       "grid_template_areas": null,
       "grid_template_columns": null,
       "grid_template_rows": null,
       "height": null,
       "justify_content": null,
       "justify_items": null,
       "left": null,
       "margin": null,
       "max_height": null,
       "max_width": null,
       "min_height": null,
       "min_width": null,
       "object_fit": null,
       "object_position": null,
       "order": null,
       "overflow": null,
       "padding": null,
       "right": null,
       "top": null,
       "visibility": null,
       "width": null
      }
     },
     "eb4a05b4e69c497ebd04eb69deca5639": {
      "model_module": "@jupyter-widgets/controls",
      "model_module_version": "2.0.0",
      "model_name": "ProgressStyleModel",
      "state": {
       "_model_module": "@jupyter-widgets/controls",
       "_model_module_version": "2.0.0",
       "_model_name": "ProgressStyleModel",
       "_view_count": null,
       "_view_module": "@jupyter-widgets/base",
       "_view_module_version": "2.0.0",
       "_view_name": "StyleView",
       "bar_color": null,
       "description_width": ""
      }
     },
     "ec82283ff18947e1a7b61026039ab37a": {
      "model_module": "@jupyter-widgets/controls",
      "model_module_version": "2.0.0",
      "model_name": "ProgressStyleModel",
      "state": {
       "_model_module": "@jupyter-widgets/controls",
       "_model_module_version": "2.0.0",
       "_model_name": "ProgressStyleModel",
       "_view_count": null,
       "_view_module": "@jupyter-widgets/base",
       "_view_module_version": "2.0.0",
       "_view_name": "StyleView",
       "bar_color": null,
       "description_width": ""
      }
     },
     "ee14c20462c849b6bd02221cb8a965ee": {
      "model_module": "@jupyter-widgets/base",
      "model_module_version": "2.0.0",
      "model_name": "LayoutModel",
      "state": {
       "_model_module": "@jupyter-widgets/base",
       "_model_module_version": "2.0.0",
       "_model_name": "LayoutModel",
       "_view_count": null,
       "_view_module": "@jupyter-widgets/base",
       "_view_module_version": "2.0.0",
       "_view_name": "LayoutView",
       "align_content": null,
       "align_items": null,
       "align_self": null,
       "border_bottom": null,
       "border_left": null,
       "border_right": null,
       "border_top": null,
       "bottom": null,
       "display": null,
       "flex": null,
       "flex_flow": null,
       "grid_area": null,
       "grid_auto_columns": null,
       "grid_auto_flow": null,
       "grid_auto_rows": null,
       "grid_column": null,
       "grid_gap": null,
       "grid_row": null,
       "grid_template_areas": null,
       "grid_template_columns": null,
       "grid_template_rows": null,
       "height": null,
       "justify_content": null,
       "justify_items": null,
       "left": null,
       "margin": null,
       "max_height": null,
       "max_width": null,
       "min_height": null,
       "min_width": null,
       "object_fit": null,
       "object_position": null,
       "order": null,
       "overflow": null,
       "padding": null,
       "right": null,
       "top": null,
       "visibility": null,
       "width": null
      }
     },
     "efe4d4da2a724ae198a94410f5bafc28": {
      "model_module": "@jupyter-widgets/controls",
      "model_module_version": "2.0.0",
      "model_name": "HBoxModel",
      "state": {
       "_dom_classes": [],
       "_model_module": "@jupyter-widgets/controls",
       "_model_module_version": "2.0.0",
       "_model_name": "HBoxModel",
       "_view_count": null,
       "_view_module": "@jupyter-widgets/controls",
       "_view_module_version": "2.0.0",
       "_view_name": "HBoxView",
       "box_style": "",
       "children": [
        "IPY_MODEL_db305dec6e4f457cad3878f43853bc9f",
        "IPY_MODEL_689f299c1cc7401db7f451526424dfb5",
        "IPY_MODEL_2d8ffba7dbeb43d6bc895b5f9e7c3a87"
       ],
       "layout": "IPY_MODEL_49b25c820671442e8aec5af548002684",
       "tabbable": null,
       "tooltip": null
      }
     },
     "f5d2b0538ba9449ab1772a08a7ffbc1f": {
      "model_module": "@jupyter-widgets/base",
      "model_module_version": "2.0.0",
      "model_name": "LayoutModel",
      "state": {
       "_model_module": "@jupyter-widgets/base",
       "_model_module_version": "2.0.0",
       "_model_name": "LayoutModel",
       "_view_count": null,
       "_view_module": "@jupyter-widgets/base",
       "_view_module_version": "2.0.0",
       "_view_name": "LayoutView",
       "align_content": null,
       "align_items": null,
       "align_self": null,
       "border_bottom": null,
       "border_left": null,
       "border_right": null,
       "border_top": null,
       "bottom": null,
       "display": null,
       "flex": null,
       "flex_flow": null,
       "grid_area": null,
       "grid_auto_columns": null,
       "grid_auto_flow": null,
       "grid_auto_rows": null,
       "grid_column": null,
       "grid_gap": null,
       "grid_row": null,
       "grid_template_areas": null,
       "grid_template_columns": null,
       "grid_template_rows": null,
       "height": null,
       "justify_content": null,
       "justify_items": null,
       "left": null,
       "margin": null,
       "max_height": null,
       "max_width": null,
       "min_height": null,
       "min_width": null,
       "object_fit": null,
       "object_position": null,
       "order": null,
       "overflow": null,
       "padding": null,
       "right": null,
       "top": null,
       "visibility": null,
       "width": null
      }
     },
     "f74708570ad84a58939d94e2ab1a898e": {
      "model_module": "@jupyter-widgets/controls",
      "model_module_version": "2.0.0",
      "model_name": "HTMLStyleModel",
      "state": {
       "_model_module": "@jupyter-widgets/controls",
       "_model_module_version": "2.0.0",
       "_model_name": "HTMLStyleModel",
       "_view_count": null,
       "_view_module": "@jupyter-widgets/base",
       "_view_module_version": "2.0.0",
       "_view_name": "StyleView",
       "background": null,
       "description_width": "",
       "font_size": null,
       "text_color": null
      }
     }
    },
    "version_major": 2,
    "version_minor": 0
   }
  }
 },
 "nbformat": 4,
 "nbformat_minor": 5
}
